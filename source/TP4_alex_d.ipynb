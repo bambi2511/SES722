{
 "cells": [
  {
   "cell_type": "code",
   "execution_count": 1,
   "metadata": {},
   "outputs": [],
   "source": [
    "import numpy as np\n",
    "import pandas as pd\n",
    "import scipy\n",
    "import matplotlib.pyplot as plt\n",
    "import seaborn as sns\n",
    "plt.style.use('seaborn')\n",
    "%matplotlib inline"
   ]
  },
  {
   "cell_type": "code",
   "execution_count": 2,
   "metadata": {},
   "outputs": [
    {
     "name": "stdout",
     "output_type": "stream",
     "text": [
      "HPRICE1.DES\r",
      "\r\n",
      "\r",
      "\r\n",
      "price     assess    bdrms     lotsize   sqrft     colonial  lprice    lassess  \r",
      "\r\n",
      "llotsize  lsqrft    \r",
      "\r\n",
      "\r",
      "\r\n",
      "  Obs:    88\r",
      "\r\n",
      "\r",
      "\r\n",
      "  1. price                    house price, $1000s\r",
      "\r\n",
      "  2. assess                   assessed value, $1000s\r",
      "\r\n",
      "  3. bdrms                    number of bedrooms\r",
      "\r\n",
      "  4. lotsize                  size of lot in square feet\r",
      "\r\n",
      "  5. sqrft                    size of house in square feet\r",
      "\r\n",
      "  6. colonial                 =1 if home is colonial style\r",
      "\r\n",
      "  7. lprice                   log(price)\r",
      "\r\n",
      "  8. lassess                  log(assess\r",
      "\r\n",
      "  9. llotsize                 log(lotsize)\r",
      "\r\n",
      " 10. lsqrft                   log(sqrft)\r",
      "\r\n",
      "\r",
      "\r\n"
     ]
    }
   ],
   "source": [
    "! cat ./data/HPRICE1.DES"
   ]
  },
  {
   "cell_type": "code",
   "execution_count": 3,
   "metadata": {
    "scrolled": true
   },
   "outputs": [
    {
     "name": "stdout",
     "output_type": "stream",
     "text": [
      "Shape = (88, 10)\n"
     ]
    },
    {
     "data": {
      "text/html": [
       "<div>\n",
       "<style scoped>\n",
       "    .dataframe tbody tr th:only-of-type {\n",
       "        vertical-align: middle;\n",
       "    }\n",
       "\n",
       "    .dataframe tbody tr th {\n",
       "        vertical-align: top;\n",
       "    }\n",
       "\n",
       "    .dataframe thead th {\n",
       "        text-align: right;\n",
       "    }\n",
       "</style>\n",
       "<table border=\"1\" class=\"dataframe\">\n",
       "  <thead>\n",
       "    <tr style=\"text-align: right;\">\n",
       "      <th></th>\n",
       "      <th>price</th>\n",
       "      <th>assess</th>\n",
       "      <th>bdrms</th>\n",
       "      <th>lotsize</th>\n",
       "      <th>sqrft</th>\n",
       "      <th>colonial</th>\n",
       "      <th>lprice</th>\n",
       "      <th>lassess</th>\n",
       "      <th>llotsize</th>\n",
       "      <th>lsqrft</th>\n",
       "    </tr>\n",
       "  </thead>\n",
       "  <tbody>\n",
       "    <tr>\n",
       "      <th>0</th>\n",
       "      <td>300.0</td>\n",
       "      <td>349.1</td>\n",
       "      <td>4</td>\n",
       "      <td>6126</td>\n",
       "      <td>2438</td>\n",
       "      <td>1</td>\n",
       "      <td>5.703783</td>\n",
       "      <td>5.855359</td>\n",
       "      <td>8.720297</td>\n",
       "      <td>7.798934</td>\n",
       "    </tr>\n",
       "    <tr>\n",
       "      <th>1</th>\n",
       "      <td>370.0</td>\n",
       "      <td>351.5</td>\n",
       "      <td>3</td>\n",
       "      <td>9903</td>\n",
       "      <td>2076</td>\n",
       "      <td>1</td>\n",
       "      <td>5.913503</td>\n",
       "      <td>5.862210</td>\n",
       "      <td>9.200593</td>\n",
       "      <td>7.638198</td>\n",
       "    </tr>\n",
       "    <tr>\n",
       "      <th>2</th>\n",
       "      <td>191.0</td>\n",
       "      <td>217.7</td>\n",
       "      <td>3</td>\n",
       "      <td>5200</td>\n",
       "      <td>1374</td>\n",
       "      <td>0</td>\n",
       "      <td>5.252274</td>\n",
       "      <td>5.383118</td>\n",
       "      <td>8.556414</td>\n",
       "      <td>7.225482</td>\n",
       "    </tr>\n",
       "    <tr>\n",
       "      <th>3</th>\n",
       "      <td>195.0</td>\n",
       "      <td>231.8</td>\n",
       "      <td>3</td>\n",
       "      <td>4600</td>\n",
       "      <td>1448</td>\n",
       "      <td>1</td>\n",
       "      <td>5.273000</td>\n",
       "      <td>5.445875</td>\n",
       "      <td>8.433811</td>\n",
       "      <td>7.277938</td>\n",
       "    </tr>\n",
       "    <tr>\n",
       "      <th>4</th>\n",
       "      <td>373.0</td>\n",
       "      <td>319.1</td>\n",
       "      <td>4</td>\n",
       "      <td>6095</td>\n",
       "      <td>2514</td>\n",
       "      <td>1</td>\n",
       "      <td>5.921578</td>\n",
       "      <td>5.765504</td>\n",
       "      <td>8.715224</td>\n",
       "      <td>7.829630</td>\n",
       "    </tr>\n",
       "  </tbody>\n",
       "</table>\n",
       "</div>"
      ],
      "text/plain": [
       "   price  assess  bdrms  lotsize  sqrft  colonial    lprice   lassess  \\\n",
       "0  300.0   349.1      4     6126   2438         1  5.703783  5.855359   \n",
       "1  370.0   351.5      3     9903   2076         1  5.913503  5.862210   \n",
       "2  191.0   217.7      3     5200   1374         0  5.252274  5.383118   \n",
       "3  195.0   231.8      3     4600   1448         1  5.273000  5.445875   \n",
       "4  373.0   319.1      4     6095   2514         1  5.921578  5.765504   \n",
       "\n",
       "   llotsize    lsqrft  \n",
       "0  8.720297  7.798934  \n",
       "1  9.200593  7.638198  \n",
       "2  8.556414  7.225482  \n",
       "3  8.433811  7.277938  \n",
       "4  8.715224  7.829630  "
      ]
     },
     "execution_count": 3,
     "metadata": {},
     "output_type": "execute_result"
    }
   ],
   "source": [
    "data_path = \"./data/\"\n",
    "\n",
    "header = ['price', 'assess', 'bdrms', 'lotsize', 'sqrft', 'colonial', 'lprice', 'lassess',\n",
    "               'llotsize', 'lsqrft']\n",
    "\n",
    "df_hprice1 = pd.read_table(data_path + \"hprice1.raw\", sep=\"\\s+\", header=None, names=header)\n",
    "\n",
    "print('Shape =',df_hprice1.shape)\n",
    "df_hprice1.head()"
   ]
  },
  {
   "cell_type": "markdown",
   "metadata": {},
   "source": [
    "# EXERCICE 1\n",
    "# We consider the model :\n",
    "> $price = \\beta_0 + \\beta_1 bdrms + \\beta_2 lotsize + \\beta_3 sqrft + u$\n",
    "\n",
    "### On veut tester :\n",
    "> $H_0 : Var(u|x_1,x_2, ···,x_k) = \\sigma^2$\n",
    "\n",
    "Since we assume that $u$ are zero mean, thus $Var(u|x) = \\mathbf{E}(u^2|x)$ and : \n",
    "> $$H_0 : \\mathbf{E}(u^2|x_1,x_2, ···,x_k) = \\mathbf{E}(u^2) = \\sigma^2$$\n",
    "(c'est-à-dire que $u^2$ ne dépend pas des $x_1, ..., x_n$)"
   ]
  },
  {
   "cell_type": "code",
   "execution_count": 4,
   "metadata": {},
   "outputs": [
    {
     "name": "stdout",
     "output_type": "stream",
     "text": [
      "X shape : (88, 4)\n",
      "dof_ur = 84\n",
      "beta = [ -2.17703086e+01   1.38525219e+01   2.06770660e-03   1.22778185e-01]\n"
     ]
    }
   ],
   "source": [
    "# Data\n",
    "y = df_hprice1.price\n",
    "\n",
    "X = df_hprice1[['bdrms', 'lotsize', 'sqrft']]\n",
    "X.insert(0, 'cste', 1)  # loc, column_name, value\n",
    "## OU\n",
    "#X = np.concatenate((np.ones((len(y), 1)), df_hprice1[['bdrms', 'lotsize', 'sqrft']]), axis=1)\n",
    "\n",
    "# Degrees of Freedom\n",
    "n, k = X.shape\n",
    "dof_ur = n - k\n",
    "print('X shape :', X.shape)\n",
    "print('dof_ur =', dof_ur)\n",
    "\n",
    "## Régression Linéaire : Calculer les coeff beta\n",
    "beta = np.linalg.inv(X.T.dot(X)).dot(X.T).dot(y)\n",
    "# OU : en rajoutant '.values'\n",
    "# y = y.values\n",
    "# X = X.values\n",
    "# beta = np.linalg.inv(X.T @ X) @ X.T @ y\n",
    "print('beta =', beta)\n",
    "\n",
    "# Résidus : u = y − X ∗ β\n",
    "u = y - X.dot(beta)\n",
    "\n",
    "## SSR_ur = somme des résidus au carrés du Unrestricted Model\n",
    "#ssr_ur = u.T.dot(u)\n",
    "#print('ssr_ur =', ssr_ur)"
   ]
  },
  {
   "cell_type": "markdown",
   "metadata": {},
   "source": [
    "### Same Calculations for the Restricted Model :\n",
    "> Unrestricted model :  \n",
    "$price = \\beta_0 + \\beta_1 bdrms + \\beta_2 lotsize + \\beta_3 sqrft + u$\n",
    "\n",
    "> \n",
    "\n",
    "> Restricted model : all the coefficients except intercept are zeros  \n",
    "==> $H_0 : \\beta_1 = \\beta_2 = \\beta_3 = 0$ :  \n",
    "$price = \\beta_0 + u$"
   ]
  },
  {
   "cell_type": "code",
   "execution_count": 5,
   "metadata": {},
   "outputs": [
    {
     "name": "stdout",
     "output_type": "stream",
     "text": [
      "X_r shape : (88, 1)\n",
      "dof_r = 87\n"
     ]
    }
   ],
   "source": [
    "# Data\n",
    "X_r = X[['cste']]\n",
    "\n",
    "# Degrees of Freedom\n",
    "n_r, k_r = X_r.shape\n",
    "dof_r = n_r - k_r\n",
    "print('X_r shape :', X_r.shape)\n",
    "print('dof_r =', dof_r)\n",
    "\n",
    "# On ne veut pas faire la régression des X par rapport aux y ici\n",
    "# Mais bien les X par rapport aux u^2 (résidus du Unrestricted Model au carré)\n",
    "\n",
    "#### Régression Linéaire : Calculer les coeff beta\n",
    "##beta_r = np.linalg.inv(X_r.T.dot(X_r)).dot(X_r.T).dot(y)\n",
    "##print('beta_r =', beta_r)\n",
    "##\n",
    "### Résidus : u = y − X ∗ β\n",
    "##u_r = y - X_r.dot(beta_r)\n",
    "##\n",
    "### SSR_r = somme des résidus au carrés du Restricted Model\n",
    "##ssr_r = u_r.T.dot(u_r)\n",
    "##print('ssr_r =', ssr_r)"
   ]
  },
  {
   "cell_type": "markdown",
   "metadata": {},
   "source": [
    "## Mais ici, on veut calculer les SSR par rapport à $u^2$ et non par rapport à $y$ :"
   ]
  },
  {
   "cell_type": "code",
   "execution_count": 6,
   "metadata": {},
   "outputs": [],
   "source": [
    "u2 = u ** 2"
   ]
  },
  {
   "cell_type": "code",
   "execution_count": 7,
   "metadata": {},
   "outputs": [
    {
     "name": "stdout",
     "output_type": "stream",
     "text": [
      "beta_u2_ur = [ -5.52279479e+03   1.04176022e+03   2.01520923e-01   1.69103698e+00]\n",
      "ssr_u2_ur = 3677520669.93\n"
     ]
    }
   ],
   "source": [
    "### UNRESTRICTED MODEL\n",
    "\n",
    "## Régression Linéaire\n",
    "beta_u2_ur = np.linalg.inv(X.T.dot(X)).dot(X.T).dot(u2)\n",
    "print('beta_u2_ur =', beta_u2_ur)\n",
    "\n",
    "# Résidus : u = u^2 − X ∗ β_u2_ur\n",
    "u = u2 - X.dot(beta_u2_ur)\n",
    "\n",
    "# SSR_ur = somme des résidus au carrés du Unrestricted Model\n",
    "ssr_u2_ur = u.T.dot(u)\n",
    "print('ssr_u2_ur =', ssr_u2_ur)"
   ]
  },
  {
   "cell_type": "code",
   "execution_count": 8,
   "metadata": {},
   "outputs": [
    {
     "name": "stdout",
     "output_type": "stream",
     "text": [
      "beta_u2_r = [ 3417.31598245]\n",
      "ssr_u2_r = 4378734467.45\n"
     ]
    }
   ],
   "source": [
    "### RESTRICTED MODEL\n",
    "\n",
    "## Régression Linéaire\n",
    "beta_u2_r = np.linalg.inv(X_r.T.dot(X_r)).dot(X_r.T).dot(u2)\n",
    "print('beta_u2_r =', beta_u2_r)\n",
    "\n",
    "# Résidus : u = u^2 − X ∗ β_u2_r\n",
    "u = u2 - X_r.dot(beta_u2_r)\n",
    "\n",
    "# SSR_ur = somme des résidus au carrés du Unrestricted Model\n",
    "ssr_u2_r = u.T.dot(u)\n",
    "print('ssr_u2_r =', ssr_u2_r)"
   ]
  },
  {
   "cell_type": "markdown",
   "metadata": {},
   "source": [
    "### Calcul de F :\n",
    "$$F = \\frac{(SSR\\_u2\\_r − SSR\\_u2\\_ur) / q}{SSR\\_u2\\_ur/(n−k−1)}$$\n",
    "\n",
    "> avec $q = numerator \\ \\ degrees \\ \\ of \\ \\ freedom = dof\\_r − dof\\_ur$\n",
    "\n",
    "> et (n−k−1) = degree of freedom (for the unrestricted model)"
   ]
  },
  {
   "cell_type": "code",
   "execution_count": 9,
   "metadata": {},
   "outputs": [
    {
     "name": "stdout",
     "output_type": "stream",
     "text": [
      "q = 3\n",
      "F = 5.33891936786\n"
     ]
    }
   ],
   "source": [
    "q = dof_r - dof_ur\n",
    "print(\"q =\", q)\n",
    "\n",
    "F = ((ssr_u2_r - ssr_u2_ur) / q) / (ssr_u2_ur / dof_ur)\n",
    "print(\"F =\", F)"
   ]
  },
  {
   "cell_type": "markdown",
   "metadata": {},
   "source": [
    "### Calcul de la p-value :"
   ]
  },
  {
   "cell_type": "code",
   "execution_count": 10,
   "metadata": {},
   "outputs": [
    {
     "name": "stdout",
     "output_type": "stream",
     "text": [
      "p_value = 0.00204774440966\n"
     ]
    }
   ],
   "source": [
    "p_value = scipy.stats.f.sf(F, q, dof_ur)\n",
    "print(\"p_value =\", p_value)"
   ]
  },
  {
   "cell_type": "markdown",
   "metadata": {},
   "source": [
    "### Interprétation  :\n",
    "\n",
    "> ### p-valeur (source: wikipedia)  \n",
    "Ce nombre est utilisé en statistiques inférentielles pour conclure sur le résultat d’un test statistique. La procédure généralement employée consiste à comparer la valeur-p à un seuil préalablement défini (traditionnellement 5 %). Si la valeur-p est inférieure à ce seuil, on rejette l'hypothèse nulle en faveur de l’hypothèse alternative, et le résultat du test est déclaré « statistiquement significatif »1. Dans le cas contraire, si la valeur-p est supérieure au seuil, on ne rejette pas l’hypothèse nulle, et on ne peut rien conclure quant aux hypothèses formulées.\n",
    "\n",
    "> ## Ici, p-value < 0.05 donc on rejette $H_0$\n",
    "\n",
    "> ### C'est-à-dire que le modèle n'est pas homoscédastique !"
   ]
  },
  {
   "cell_type": "markdown",
   "metadata": {},
   "source": [
    "# EXERCICE 2\n",
    "# We now consider the model with log(price):\n",
    "> $log(price) = \\beta_0 + \\beta_1 bdrms + \\beta_2 lotsize + \\beta_3 sqrft + u$"
   ]
  },
  {
   "cell_type": "code",
   "execution_count": 11,
   "metadata": {},
   "outputs": [
    {
     "name": "stdout",
     "output_type": "stream",
     "text": [
      "beta = [  4.75937533e+00   2.52388099e-02   5.60178501e-06   3.64117400e-04]\n"
     ]
    }
   ],
   "source": [
    "### We perform the regression :\n",
    "\n",
    "# Data\n",
    "log_y = np.log(y)\n",
    "\n",
    "# Régression Linéaire : Calculer les coeff beta\n",
    "beta = np.linalg.inv(X.T.dot(X)).dot(X.T).dot(log_y)\n",
    "print('beta =', beta)\n",
    "\n",
    "# Résidus : u = log(y) − X ∗ β\n",
    "u = log_y - X.dot(beta)"
   ]
  },
  {
   "cell_type": "code",
   "execution_count": 12,
   "metadata": {},
   "outputs": [],
   "source": [
    "### Compute u^2\n",
    "u2 = u ** 2"
   ]
  },
  {
   "cell_type": "markdown",
   "metadata": {},
   "source": [
    "### We consider :\n",
    "> $u^2 = \\delta_0 + \\delta_1 bdrms + \\delta_2 lotsize + \\delta_3 sqrft + v$\n",
    "\n",
    "### We want to test :\n",
    "> $H_0 : \\delta_1 = \\delta_2 = \\delta_3 = 0$\n",
    "\n",
    "### Exercice : Compute F-statistic and p-value"
   ]
  },
  {
   "cell_type": "code",
   "execution_count": 13,
   "metadata": {},
   "outputs": [
    {
     "name": "stdout",
     "output_type": "stream",
     "text": [
      "delta_u2_ur = [  1.64576832e-02   1.96929687e-02   8.50411453e-08  -2.63589574e-05]\n",
      "ssr_u2_ur = 0.493377757572\n"
     ]
    }
   ],
   "source": [
    "### UNRESTRICTED MODEL\n",
    "\n",
    "# Régression Linéaire\n",
    "delta_u2_ur = np.linalg.inv(X.T.dot(X)).dot(X.T).dot(u2)\n",
    "print('delta_u2_ur =', delta_u2_ur)\n",
    "\n",
    "# Résidus : u = u^2 − X ∗ β_u2_ur\n",
    "u = u2 - X.dot(delta_u2_ur)\n",
    "\n",
    "# SSR_ur = somme des résidus au carrés du Unrestricted Model\n",
    "ssr_u2_ur = u.T.dot(u)\n",
    "print('ssr_u2_ur =', ssr_u2_ur)"
   ]
  },
  {
   "cell_type": "code",
   "execution_count": 14,
   "metadata": {},
   "outputs": [
    {
     "name": "stdout",
     "output_type": "stream",
     "text": [
      "delta_u2_r = [ 0.03441398]\n",
      "ssr_u2_r = 0.514073082132\n"
     ]
    }
   ],
   "source": [
    "### RESTRICTED MODEL\n",
    "\n",
    "# Régression Linéaire\n",
    "delta_u2_r = np.linalg.inv(X_r.T.dot(X_r)).dot(X_r.T).dot(u2)\n",
    "print('delta_u2_r =', delta_u2_r)\n",
    "\n",
    "# Résidus : u = u^2 − X ∗ β_u2_r\n",
    "u = u2 - X_r.dot(delta_u2_r)\n",
    "\n",
    "# SSR_ur = somme des résidus au carrés du Unrestricted Model\n",
    "ssr_u2_r = u.T.dot(u)\n",
    "print('ssr_u2_r =', ssr_u2_r)"
   ]
  },
  {
   "cell_type": "code",
   "execution_count": 15,
   "metadata": {},
   "outputs": [
    {
     "name": "stdout",
     "output_type": "stream",
     "text": [
      "F = 1.1744937399\n"
     ]
    }
   ],
   "source": [
    "### CALCUL DE F\n",
    "q = dof_r - dof_ur\n",
    "\n",
    "F = ((ssr_u2_r - ssr_u2_ur) / q) / (ssr_u2_ur / dof_ur)\n",
    "print(\"F =\", F)"
   ]
  },
  {
   "cell_type": "code",
   "execution_count": 16,
   "metadata": {},
   "outputs": [
    {
     "name": "stdout",
     "output_type": "stream",
     "text": [
      "p_value = 0.324417066143\n"
     ]
    }
   ],
   "source": [
    "p_value = scipy.stats.f.sf(F, q, dof_ur)\n",
    "print(\"p_value =\", p_value)"
   ]
  },
  {
   "cell_type": "markdown",
   "metadata": {},
   "source": [
    "## Interprétation  :\n",
    "\n",
    "> ### Ici, p-value > 0.05 donc on ne rejette pas $H_0$\n",
    "\n",
    "> #### On en conclut que le modèle est homoscédastique."
   ]
  },
  {
   "cell_type": "markdown",
   "metadata": {},
   "source": [
    "# EXERCICE 3 : WLS (weighted least squares)\n",
    "\n",
    "Assume that we know the form of the heteroskedasticity $Var(u|x) = \\sigma^2h(x)$  \n",
    "with $h(x) = lotsize$ : the variance of the error is proportional to the size of the terrain\n",
    "\n",
    "We consider the model :\n",
    "> $$ \\frac{price}{\\sqrt{lotsize}} = \\frac{\\beta_0}{\\sqrt{lotsize}}\n",
    "+ \\frac{\\beta_1 bdrms}{\\sqrt{lotsize}}\n",
    "+ \\frac{\\beta_2 lotsize}{\\sqrt{lotsize}}\n",
    "+ \\frac{\\beta_3 sqrft}{\\sqrt{lotsize}}\n",
    "+ \\frac{u}{\\sqrt{lotsize}}$$\n",
    "\n",
    "##### Verify that the above model satisfies the hypothesis of homoskedasticity."
   ]
  },
  {
   "cell_type": "code",
   "execution_count": 17,
   "metadata": {},
   "outputs": [],
   "source": [
    "# Refactor the data\n",
    "sqrt_lotsize = np.sqrt(df_hprice1.lotsize)\n",
    "\n",
    "y_wls = y / sqrt_lotsize\n",
    "\n",
    "cste = (np.ones(len(y_wls)) / sqrt_lotsize).values.reshape((len(y), -1))\n",
    "x1_wls = (df_hprice1.bdrms / sqrt_lotsize).values.reshape((len(y), -1))\n",
    "x2_wls = (df_hprice1.lotsize / sqrt_lotsize).values.reshape((len(y), -1))\n",
    "x3_wls = (df_hprice1.sqrft / sqrt_lotsize).values.reshape((len(y), -1))\n",
    "X_wls = np.concatenate((cste, x1_wls, x2_wls, x3_wls), axis=1)"
   ]
  },
  {
   "cell_type": "code",
   "execution_count": 18,
   "metadata": {},
   "outputs": [
    {
     "name": "stdout",
     "output_type": "stream",
     "text": [
      "beta = [  1.17887557e+01   1.12359371e+01   5.51883227e-03   9.52907321e-02]\n"
     ]
    }
   ],
   "source": [
    "# Régression Linéaire : Calculer les coeff beta\n",
    "beta = np.linalg.inv(X_wls.T.dot(X_wls)).dot(X_wls.T).dot(y_wls)\n",
    "print('beta =', beta)\n",
    "\n",
    "# Résidus : u = y_wls − X_wls ∗ β\n",
    "u = y_wls - X_wls.dot(beta)"
   ]
  },
  {
   "cell_type": "code",
   "execution_count": 19,
   "metadata": {},
   "outputs": [],
   "source": [
    "### Compute u^2\n",
    "u2 = u ** 2"
   ]
  },
  {
   "cell_type": "code",
   "execution_count": 20,
   "metadata": {},
   "outputs": [
    {
     "name": "stdout",
     "output_type": "stream",
     "text": [
      "beta_u2_ur = [  1.85860690e+01   1.13891590e+01   3.17779287e-03  -2.56000929e-02]\n",
      "ssr_u2_ur = 70.184241756\n"
     ]
    }
   ],
   "source": [
    "### UNRESTRICTED MODEL\n",
    "\n",
    "# Régression Linéaire\n",
    "beta_u2_ur = np.linalg.inv(X_wls.T.dot(X_wls)).dot(X_wls.T).dot(u2)\n",
    "print('beta_u2_ur =', beta_u2_ur)\n",
    "\n",
    "# Résidus : u = u^2 − X_wls ∗ β_u2_ur\n",
    "u = u2 - X_wls.dot(beta_u2_ur)\n",
    "\n",
    "# SSR_ur = somme des résidus au carrés du Unrestricted Model\n",
    "ssr_u2_ur = u.T.dot(u)\n",
    "print('ssr_u2_ur =', ssr_u2_ur)"
   ]
  },
  {
   "cell_type": "code",
   "execution_count": 21,
   "metadata": {},
   "outputs": [
    {
     "name": "stdout",
     "output_type": "stream",
     "text": [
      "beta_u2_r = [ 28.444881]\n",
      "ssr_u2_r = 74.6220701815\n"
     ]
    }
   ],
   "source": [
    "### RESTRICTED MODEL\n",
    "\n",
    "X_wls_r = np.reshape(X_wls[:, 0], (len(y), -1))\n",
    "\n",
    "# Régression Linéaire\n",
    "beta_u2_r = np.linalg.inv(X_wls_r.T.dot(X_wls_r)).dot(X_wls_r.T).dot(u2)\n",
    "print('beta_u2_r =', beta_u2_r)\n",
    "\n",
    "# Résidus : u = u^2 − X ∗ β_u2_r\n",
    "u = u2 - X_wls_r.dot(beta_u2_r)\n",
    "\n",
    "# SSR_ur = somme des résidus au carrés du Unrestricted Model\n",
    "ssr_u2_r = u.T.dot(u)\n",
    "print('ssr_u2_r =', ssr_u2_r)"
   ]
  },
  {
   "cell_type": "code",
   "execution_count": 22,
   "metadata": {},
   "outputs": [
    {
     "name": "stdout",
     "output_type": "stream",
     "text": [
      "F = 1.77047144494\n"
     ]
    }
   ],
   "source": [
    "### CALCUL DE F\n",
    "q = dof_r - dof_ur\n",
    "\n",
    "F = ((ssr_u2_r - ssr_u2_ur) / q) / (ssr_u2_ur / dof_ur)\n",
    "print(\"F =\", F)"
   ]
  },
  {
   "cell_type": "code",
   "execution_count": 23,
   "metadata": {},
   "outputs": [
    {
     "name": "stdout",
     "output_type": "stream",
     "text": [
      "p_value = 0.159040529914\n"
     ]
    }
   ],
   "source": [
    "p_value = scipy.stats.f.sf(F, q, dof_ur)\n",
    "print(\"p_value =\", p_value)"
   ]
  },
  {
   "cell_type": "markdown",
   "metadata": {},
   "source": [
    "### Interprétation  :\n",
    "\n",
    "> ### Ici, p-value > 0.05 donc on ne rejette pas $H_0$\n",
    "\n",
    "> #### On en conclut que le modèle est là aussi homoscédastique."
   ]
  },
  {
   "cell_type": "markdown",
   "metadata": {},
   "source": [
    "# EXERCICE 4\n",
    "\n",
    "...  \n",
    "  \n",
    "..."
   ]
  },
  {
   "cell_type": "code",
   "execution_count": null,
   "metadata": {},
   "outputs": [],
   "source": []
  },
  {
   "cell_type": "code",
   "execution_count": null,
   "metadata": {},
   "outputs": [],
   "source": []
  },
  {
   "cell_type": "code",
   "execution_count": null,
   "metadata": {},
   "outputs": [],
   "source": []
  },
  {
   "cell_type": "code",
   "execution_count": null,
   "metadata": {},
   "outputs": [],
   "source": []
  },
  {
   "cell_type": "code",
   "execution_count": null,
   "metadata": {},
   "outputs": [],
   "source": []
  },
  {
   "cell_type": "code",
   "execution_count": null,
   "metadata": {},
   "outputs": [],
   "source": []
  },
  {
   "cell_type": "code",
   "execution_count": 22,
   "metadata": {},
   "outputs": [
    {
     "name": "stdout",
     "output_type": "stream",
     "text": [
      "sig2 = 0.194359331249\n",
      "std_dv = [ 0.10419038  0.00732992  0.00172328  0.00309365]\n"
     ]
    }
   ],
   "source": [
    "# sig2 = u′ ∗ u / (n−k)\n",
    "sig2 = u.T.dot(u) / dof\n",
    "print('sig2 =', sig2)\n",
    "\n",
    "# std dv = sqrt(diag(sig2 ∗ inv(X′ ∗ X)))\n",
    "std_dv = np.sqrt(np.diag(sig2 * np.linalg.inv(X.T.dot(X))))\n",
    "print('std_dv =', std_dv)"
   ]
  },
  {
   "cell_type": "code",
   "execution_count": null,
   "metadata": {},
   "outputs": [],
   "source": []
  },
  {
   "cell_type": "code",
   "execution_count": null,
   "metadata": {},
   "outputs": [],
   "source": []
  },
  {
   "cell_type": "code",
   "execution_count": null,
   "metadata": {},
   "outputs": [],
   "source": []
  },
  {
   "cell_type": "code",
   "execution_count": null,
   "metadata": {},
   "outputs": [],
   "source": []
  },
  {
   "cell_type": "code",
   "execution_count": null,
   "metadata": {},
   "outputs": [],
   "source": [
    "# obtenir en python la valeur critique à 95% pour une T distribution de dof degrees of freedom :\n",
    "n_samples, n_features = X.shape\n",
    "dof = n_samples - n_features\n",
    "critic_val = scipy.stats.t.ppf(0.95, dof)"
   ]
  },
  {
   "cell_type": "code",
   "execution_count": null,
   "metadata": {},
   "outputs": [],
   "source": []
  },
  {
   "cell_type": "code",
   "execution_count": null,
   "metadata": {},
   "outputs": [],
   "source": []
  }
 ],
 "metadata": {
  "kernelspec": {
   "display_name": "Python 3",
   "language": "python",
   "name": "python3"
  },
  "language_info": {
   "codemirror_mode": {
    "name": "ipython",
    "version": 3
   },
   "file_extension": ".py",
   "mimetype": "text/x-python",
   "name": "python",
   "nbconvert_exporter": "python",
   "pygments_lexer": "ipython3",
   "version": "3.5.2"
  },
  "varInspector": {
   "cols": {
    "lenName": 16,
    "lenType": 16,
    "lenVar": 40
   },
   "kernels_config": {
    "python": {
     "delete_cmd_postfix": "",
     "delete_cmd_prefix": "del ",
     "library": "var_list.py",
     "varRefreshCmd": "print(var_dic_list())"
    },
    "r": {
     "delete_cmd_postfix": ") ",
     "delete_cmd_prefix": "rm(",
     "library": "var_list.r",
     "varRefreshCmd": "cat(var_dic_list()) "
    }
   },
   "types_to_exclude": [
    "module",
    "function",
    "builtin_function_or_method",
    "instance",
    "_Feature"
   ],
   "window_display": false
  }
 },
 "nbformat": 4,
 "nbformat_minor": 2
}
