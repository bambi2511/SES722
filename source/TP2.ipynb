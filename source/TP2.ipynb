{
 "cells": [
  {
   "cell_type": "code",
   "execution_count": 48,
   "metadata": {},
   "outputs": [],
   "source": [
    "import numpy as np\n",
    "import pandas as pd\n",
    "from scipy.stats import ttest_ind\n",
    "import matplotlib.pyplot as plt\n",
    "import seaborn as sns\n",
    "plt.style.use('seaborn')\n",
    "%matplotlib inline"
   ]
  },
  {
   "cell_type": "code",
   "execution_count": 9,
   "metadata": {},
   "outputs": [
    {
     "name": "stdout",
     "output_type": "stream",
     "text": [
      "CEOSAL1.DES\r",
      "\r\n",
      "\r",
      "\r\n",
      "salary    pcsalary  sales     roe       pcroe     ros       indus     finance  \r",
      "\r\n",
      "consprod  utility   lsalary   lsales    \r",
      "\r\n",
      "\r",
      "\r\n",
      "  Obs:   209\r",
      "\r\n",
      "\r",
      "\r\n",
      "  1. salary                   1990 salary, thousands $\r",
      "\r\n",
      "  2. pcsalary                 % change salary, 89-90\r",
      "\r\n",
      "  3. sales                    1990 firm sales, millions $\r",
      "\r\n",
      "  4. roe                      return on equity, 88-90 avg\r",
      "\r\n",
      "  5. pcroe                    % change roe, 88-90\r",
      "\r\n",
      "  6. ros                      return on firm's stock, 88-90\r",
      "\r\n",
      "  7. indus                    =1 if industrial firm\r",
      "\r\n",
      "  8. finance                  =1 if financial firm\r",
      "\r\n",
      "  9. consprod                 =1 if consumer product firm\r",
      "\r\n",
      " 10. utility                  =1 if transport. or utilties\r",
      "\r\n",
      " 11. lsalary                  natural log of salary\r",
      "\r\n",
      " 12. lsales                   natural log of sales\r",
      "\r\n",
      "\r",
      "\r\n"
     ]
    }
   ],
   "source": [
    "! cat ../data/swbook1_3e/textfiles/CEOSAL1.DES"
   ]
  },
  {
   "cell_type": "code",
   "execution_count": 11,
   "metadata": {},
   "outputs": [
    {
     "data": {
      "text/html": [
       "<div>\n",
       "<style>\n",
       "    .dataframe thead tr:only-child th {\n",
       "        text-align: right;\n",
       "    }\n",
       "\n",
       "    .dataframe thead th {\n",
       "        text-align: left;\n",
       "    }\n",
       "\n",
       "    .dataframe tbody tr th {\n",
       "        vertical-align: top;\n",
       "    }\n",
       "</style>\n",
       "<table border=\"1\" class=\"dataframe\">\n",
       "  <thead>\n",
       "    <tr style=\"text-align: right;\">\n",
       "      <th></th>\n",
       "      <th>salary</th>\n",
       "      <th>pcsalary</th>\n",
       "      <th>sales</th>\n",
       "      <th>roe</th>\n",
       "      <th>pcroe</th>\n",
       "      <th>ros</th>\n",
       "      <th>indus</th>\n",
       "      <th>finance</th>\n",
       "      <th>consprod</th>\n",
       "      <th>utility</th>\n",
       "      <th>lsalary</th>\n",
       "      <th>lsales</th>\n",
       "    </tr>\n",
       "  </thead>\n",
       "  <tbody>\n",
       "    <tr>\n",
       "      <th>0</th>\n",
       "      <td>1095</td>\n",
       "      <td>20</td>\n",
       "      <td>27595.0</td>\n",
       "      <td>14.1</td>\n",
       "      <td>106.4</td>\n",
       "      <td>191</td>\n",
       "      <td>1</td>\n",
       "      <td>0</td>\n",
       "      <td>0</td>\n",
       "      <td>0</td>\n",
       "      <td>6.998509</td>\n",
       "      <td>10.225390</td>\n",
       "    </tr>\n",
       "    <tr>\n",
       "      <th>1</th>\n",
       "      <td>1001</td>\n",
       "      <td>32</td>\n",
       "      <td>9958.0</td>\n",
       "      <td>10.9</td>\n",
       "      <td>-30.6</td>\n",
       "      <td>13</td>\n",
       "      <td>1</td>\n",
       "      <td>0</td>\n",
       "      <td>0</td>\n",
       "      <td>0</td>\n",
       "      <td>6.908755</td>\n",
       "      <td>9.206132</td>\n",
       "    </tr>\n",
       "    <tr>\n",
       "      <th>2</th>\n",
       "      <td>1122</td>\n",
       "      <td>9</td>\n",
       "      <td>6125.9</td>\n",
       "      <td>23.5</td>\n",
       "      <td>-16.3</td>\n",
       "      <td>14</td>\n",
       "      <td>1</td>\n",
       "      <td>0</td>\n",
       "      <td>0</td>\n",
       "      <td>0</td>\n",
       "      <td>7.022868</td>\n",
       "      <td>8.720281</td>\n",
       "    </tr>\n",
       "    <tr>\n",
       "      <th>3</th>\n",
       "      <td>578</td>\n",
       "      <td>-9</td>\n",
       "      <td>16246.0</td>\n",
       "      <td>5.9</td>\n",
       "      <td>-25.7</td>\n",
       "      <td>-21</td>\n",
       "      <td>1</td>\n",
       "      <td>0</td>\n",
       "      <td>0</td>\n",
       "      <td>0</td>\n",
       "      <td>6.359574</td>\n",
       "      <td>9.695602</td>\n",
       "    </tr>\n",
       "    <tr>\n",
       "      <th>4</th>\n",
       "      <td>1368</td>\n",
       "      <td>7</td>\n",
       "      <td>21783.2</td>\n",
       "      <td>13.8</td>\n",
       "      <td>-3.0</td>\n",
       "      <td>56</td>\n",
       "      <td>1</td>\n",
       "      <td>0</td>\n",
       "      <td>0</td>\n",
       "      <td>0</td>\n",
       "      <td>7.221105</td>\n",
       "      <td>9.988894</td>\n",
       "    </tr>\n",
       "  </tbody>\n",
       "</table>\n",
       "</div>"
      ],
      "text/plain": [
       "   salary  pcsalary    sales   roe  pcroe  ros  indus  finance  consprod  \\\n",
       "0    1095        20  27595.0  14.1  106.4  191      1        0         0   \n",
       "1    1001        32   9958.0  10.9  -30.6   13      1        0         0   \n",
       "2    1122         9   6125.9  23.5  -16.3   14      1        0         0   \n",
       "3     578        -9  16246.0   5.9  -25.7  -21      1        0         0   \n",
       "4    1368         7  21783.2  13.8   -3.0   56      1        0         0   \n",
       "\n",
       "   utility   lsalary     lsales  \n",
       "0        0  6.998509  10.225390  \n",
       "1        0  6.908755   9.206132  \n",
       "2        0  7.022868   8.720281  \n",
       "3        0  6.359574   9.695602  \n",
       "4        0  7.221105   9.988894  "
      ]
     },
     "execution_count": 11,
     "metadata": {},
     "output_type": "execute_result"
    }
   ],
   "source": [
    "data_path = \"../data/swbook1_3e/textfiles/\"\n",
    "\n",
    "header_ceosa1 = ['salary', 'pcsalary', 'sales', 'roe', 'pcroe', 'ros', 'indus', 'finance', 'consprod', 'utility', 'lsalary', 'lsales']\n",
    "\n",
    "df_ceosa1 = pd.read_table(data_path + \"/CEOSAL1.raw\", sep=\"\\s+\", header=None, names=header_ceosa1)\n",
    "\n",
    "df_ceosa1.head()\n"
   ]
  },
  {
   "cell_type": "code",
   "execution_count": 16,
   "metadata": {},
   "outputs": [],
   "source": [
    "s_y = df_ceosa1.salary\n",
    "s_X = df_ceosa1.roe"
   ]
  },
  {
   "cell_type": "code",
   "execution_count": 24,
   "metadata": {},
   "outputs": [],
   "source": [
    "df_X = pd.concat([pd.Series(np.ones(df_ceosa1.shape[0]), name='intercept'), \n",
    "                 df_ceosa1.roe], axis = 1)"
   ]
  },
  {
   "cell_type": "code",
   "execution_count": 26,
   "metadata": {},
   "outputs": [],
   "source": [
    "X = df_X.values\n",
    "y = s_y.values"
   ]
  },
  {
   "cell_type": "code",
   "execution_count": 28,
   "metadata": {},
   "outputs": [
    {
     "data": {
      "text/plain": [
       "array([ 963.19132747,   18.50118685])"
      ]
     },
     "execution_count": 28,
     "metadata": {},
     "output_type": "execute_result"
    }
   ],
   "source": [
    "beta = (np.linalg.inv(X.T @ X)) @ X.T @ y\n",
    "beta"
   ]
  },
  {
   "cell_type": "code",
   "execution_count": 34,
   "metadata": {},
   "outputs": [],
   "source": [
    "u = y - X @ beta\n",
    "n, k = X.shape\n",
    "sig2 = u.T @ u / (n-k)\n",
    "std = np.sqrt()"
   ]
  },
  {
   "cell_type": "code",
   "execution_count": 42,
   "metadata": {},
   "outputs": [
    {
     "data": {
      "text/plain": [
       "array([ 213.24025691,   11.12325089])"
      ]
     },
     "execution_count": 42,
     "metadata": {},
     "output_type": "execute_result"
    }
   ],
   "source": [
    "std = np.sqrt(np.diag(sig2 * np.linalg.inv(X.T @ X)))\n",
    "std"
   ]
  },
  {
   "cell_type": "code",
   "execution_count": 45,
   "metadata": {},
   "outputs": [
    {
     "data": {
      "text/plain": [
       "<matplotlib.axes._subplots.AxesSubplot at 0x7f15c4f6e710>"
      ]
     },
     "execution_count": 45,
     "metadata": {},
     "output_type": "execute_result"
    },
    {
     "data": {
      "image/png": "[encoded data removed]",
      "text/plain": [
       "<matplotlib.figure.Figure at 0x7f15c4f33400>"
      ]
     },
     "metadata": {},
     "output_type": "display_data"
    }
   ],
   "source": [
    "sns.distplot(u, kde=False)"
   ]
  },
  {
   "cell_type": "code",
   "execution_count": 49,
   "metadata": {},
   "outputs": [],
   "source": [
    "from scipy.stats import t"
   ]
  },
  {
   "cell_type": "code",
   "execution_count": 53,
   "metadata": {},
   "outputs": [
    {
     "data": {
      "text/plain": [
       "(-1.6522480859926569, 1.6522480859926563)"
      ]
     },
     "execution_count": 53,
     "metadata": {},
     "output_type": "execute_result"
    }
   ],
   "source": [
    "t.interval(0.90, n-k)"
   ]
  },
  {
   "cell_type": "code",
   "execution_count": 56,
   "metadata": {},
   "outputs": [
    {
     "name": "stdout",
     "output_type": "stream",
     "text": [
      "[ 963.19132747   18.50118685]\n",
      "[ 213.24025691   11.12325089]\n"
     ]
    }
   ],
   "source": [
    "print(beta)\n",
    "print(std)\n"
   ]
  },
  {
   "cell_type": "code",
   "execution_count": null,
   "metadata": {},
   "outputs": [],
   "source": []
  },
  {
   "cell_type": "code",
   "execution_count": null,
   "metadata": {},
   "outputs": [],
   "source": []
  }
 ],
 "metadata": {
  "kernelspec": {
   "display_name": "Python 3",
   "language": "python",
   "name": "python3"
  },
  "language_info": {
   "codemirror_mode": {
    "name": "ipython",
    "version": 3
   },
   "file_extension": ".py",
   "mimetype": "text/x-python",
   "name": "python",
   "nbconvert_exporter": "python",
   "pygments_lexer": "ipython3",
   "version": "3.5.2"
  },
  "varInspector": {
   "cols": {
    "lenName": 16,
    "lenType": 16,
    "lenVar": 40
   },
   "kernels_config": {
    "python": {
     "delete_cmd_postfix": "",
     "delete_cmd_prefix": "del ",
     "library": "var_list.py",
     "varRefreshCmd": "print(var_dic_list())"
    },
    "r": {
     "delete_cmd_postfix": ") ",
     "delete_cmd_prefix": "rm(",
     "library": "var_list.r",
     "varRefreshCmd": "cat(var_dic_list()) "
    }
   },
   "types_to_exclude": [
    "module",
    "function",
    "builtin_function_or_method",
    "instance",
    "_Feature"
   ],
   "window_display": false
  }
 },
 "nbformat": 4,
 "nbformat_minor": 2
}
