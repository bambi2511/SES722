{
 "cells": [
  {
   "cell_type": "code",
   "execution_count": 2,
   "metadata": {},
   "outputs": [],
   "source": [
    "import numpy as np\n",
    "import pandas as pd\n",
    "import matplotlib.pyplot as plt\n",
    "from scipy import stats\n",
    "import seaborn as sns\n",
    "plt.style.use('seaborn')\n",
    "plt.rcParams['figure.figsize'] = (8.0, 6.0) # set default size of plots\n",
    "plt.rcParams['image.interpolation'] = 'nearest'\n",
    "plt.rcParams['image.cmap'] = 'gray'\n",
    "#%matplotlib inline"
   ]
  },
  {
   "cell_type": "markdown",
   "metadata": {},
   "source": [
    "## Fonctions utilitaires"
   ]
  },
  {
   "cell_type": "code",
   "execution_count": 6,
   "metadata": {},
   "outputs": [],
   "source": [
    "def linear_correlation(X, Y):\n",
    "    X_mean = np.mean(X, axis=0)\n",
    "    Y_mean = np.mean(Y, axis=0)\n",
    "    cov_X_Y = (X - X_mean).T @ (Y - Y_mean)\n",
    "    std_X = np.sqrt((X - X_mean).T @ (X - X_mean))\n",
    "    std_Y = np.sqrt((Y - Y_mean).T @ (Y - Y_mean))\n",
    "    return np.divide(cov_X_Y, np.multiply(std_X, std_Y))"
   ]
  },
  {
   "cell_type": "code",
   "execution_count": 33,
   "metadata": {},
   "outputs": [],
   "source": [
    "def p_Student(df, percentage, one_side=True):\n",
    "    p_values = stats.t.interval(alpha=1 - percentage, df=df, loc=0, scale=1)\n",
    "    if one_side:\n",
    "        return 2 * p_values[-1]\n",
    "    else:\n",
    "        return p_values[-1]"
   ]
  },
  {
   "cell_type": "code",
   "execution_count": 27,
   "metadata": {},
   "outputs": [
    {
     "data": {
      "text/plain": [
       "(-2.3060041350333704, 2.3060041350333704)"
      ]
     },
     "execution_count": 27,
     "metadata": {},
     "output_type": "execute_result"
    }
   ],
   "source": [
    "df = 2.74\n",
    "stats.t.interval(alpha=1 - 0.05, df=8, loc=0, scale=1)\n",
    "p_Student(8, 0.05, False)"
   ]
  },
  {
   "cell_type": "markdown",
   "metadata": {},
   "source": [
    "### C1EX1\n",
    "Calcul d'un coefficient de correlation"
   ]
  },
  {
   "cell_type": "code",
   "execution_count": 7,
   "metadata": {},
   "outputs": [
    {
     "data": {
      "image/png": "[encoded data removed]",
      "text/plain": [
       "<matplotlib.figure.Figure at 0x7f312128a0f0>"
      ]
     },
     "metadata": {},
     "output_type": "display_data"
    },
    {
     "name": "stdout",
     "output_type": "stream",
     "text": [
      "Correlation :  0.892901420659809\n"
     ]
    }
   ],
   "source": [
    "X = np.array([16, 18, 23, 24, 28, 29, 26, 31, 32, 34]).reshape(-1, 1)\n",
    "y = np.array([20, 24, 28, 22, 32, 28, 32, 36, 41, 41]).reshape(-1, 1)\n",
    "#sns.lmplot(\"Rendement x\", \"Engrais y\", data=np.concatenate((X, y), axis=1))\n",
    "plt.scatter(X, y)\n",
    "plt.xlabel('Rendement x')\n",
    "plt.ylabel('Engrais y')\n",
    "plt.title(\"Rendement de mais et quantite d engrais\")\n",
    "plt.show()\n",
    "# np.corrcoef(X.ravel(), y.ravel())\n",
    "corr = np.float(linear_correlation(X, y))\n",
    "print(\"Correlation : \", corr)"
   ]
  },
  {
   "cell_type": "code",
   "execution_count": 36,
   "metadata": {},
   "outputs": [
    {
     "name": "stdout",
     "output_type": "stream",
     "text": [
      "H0: correlation = 0\n",
      "t_star : 5.609093169337708, p : 2.3060041350333704, H0 rejected :True\n",
      "On rejette H0, la correlation est significativement differente de 0\n"
     ]
    }
   ],
   "source": [
    "print(\"H0: correlation = 0\")\n",
    "t_star = np.divide(np.abs(corr), np.sqrt(np.divide(1 - np.power(corr, 2), X.shape[0] - 2)))\n",
    "\n",
    "# 2: X theta + b (d=2)\n",
    "# student à 10 - 2 = 8 degres de liberte\n",
    "p = p_Student(8, 0.05, False)\n",
    "print(\"t_star : {}, p : {}, H0 rejected :{}\".format(t_star, p, t_star > p))\n",
    "print(\"On rejette H0, la correlation est significativement differente de 0\")"
   ]
  },
  {
   "cell_type": "markdown",
   "metadata": {},
   "source": [
    "### C2EX1\n",
    "Génération d'une consommation aleatoire"
   ]
  },
  {
   "cell_type": "code",
   "execution_count": 64,
   "metadata": {},
   "outputs": [
    {
     "data": {
      "image/png": "[encoded data removed]",
      "text/plain": [
       "<matplotlib.figure.Figure at 0x7f311fc54470>"
      ]
     },
     "metadata": {},
     "output_type": "display_data"
    }
   ],
   "source": [
    "X = np.array(range(1, 11)).reshape(-1, 1)\n",
    "Y = np.array([8, 9, 9.5, 9.5, 9.8, 11, 12, 13, 15, 16]).reshape(-1, 1) * 1000\n",
    "\n",
    "C = 1000.0 + 0.8 * Y\n",
    "plt.scatter(X, Y)\n",
    "plt.xlabel('Année')\n",
    "plt.ylabel('Revenu')\n",
    "plt.title(\"Revenu par annee\")\n",
    "\n",
    "plt.show()"
   ]
  },
  {
   "cell_type": "code",
   "execution_count": 79,
   "metadata": {},
   "outputs": [
    {
     "data": {
      "text/html": [
       "<div>\n",
       "<style scoped>\n",
       "    .dataframe tbody tr th:only-of-type {\n",
       "        vertical-align: middle;\n",
       "    }\n",
       "\n",
       "    .dataframe tbody tr th {\n",
       "        vertical-align: top;\n",
       "    }\n",
       "\n",
       "    .dataframe thead th {\n",
       "        text-align: right;\n",
       "    }\n",
       "</style>\n",
       "<table border=\"1\" class=\"dataframe\">\n",
       "  <thead>\n",
       "    <tr style=\"text-align: right;\">\n",
       "      <th></th>\n",
       "      <th>Annee</th>\n",
       "      <th>Revenu</th>\n",
       "      <th>Consommation_th</th>\n",
       "    </tr>\n",
       "    <tr>\n",
       "      <th>Annee</th>\n",
       "      <th></th>\n",
       "      <th></th>\n",
       "      <th></th>\n",
       "    </tr>\n",
       "  </thead>\n",
       "  <tbody>\n",
       "    <tr>\n",
       "      <th>1.0</th>\n",
       "      <td>1.0</td>\n",
       "      <td>8000.0</td>\n",
       "      <td>7400.0</td>\n",
       "    </tr>\n",
       "    <tr>\n",
       "      <th>2.0</th>\n",
       "      <td>2.0</td>\n",
       "      <td>9000.0</td>\n",
       "      <td>8200.0</td>\n",
       "    </tr>\n",
       "    <tr>\n",
       "      <th>3.0</th>\n",
       "      <td>3.0</td>\n",
       "      <td>9500.0</td>\n",
       "      <td>8600.0</td>\n",
       "    </tr>\n",
       "    <tr>\n",
       "      <th>4.0</th>\n",
       "      <td>4.0</td>\n",
       "      <td>9500.0</td>\n",
       "      <td>8600.0</td>\n",
       "    </tr>\n",
       "    <tr>\n",
       "      <th>5.0</th>\n",
       "      <td>5.0</td>\n",
       "      <td>9800.0</td>\n",
       "      <td>8840.0</td>\n",
       "    </tr>\n",
       "    <tr>\n",
       "      <th>6.0</th>\n",
       "      <td>6.0</td>\n",
       "      <td>11000.0</td>\n",
       "      <td>9800.0</td>\n",
       "    </tr>\n",
       "    <tr>\n",
       "      <th>7.0</th>\n",
       "      <td>7.0</td>\n",
       "      <td>12000.0</td>\n",
       "      <td>10600.0</td>\n",
       "    </tr>\n",
       "    <tr>\n",
       "      <th>8.0</th>\n",
       "      <td>8.0</td>\n",
       "      <td>13000.0</td>\n",
       "      <td>11400.0</td>\n",
       "    </tr>\n",
       "    <tr>\n",
       "      <th>9.0</th>\n",
       "      <td>9.0</td>\n",
       "      <td>15000.0</td>\n",
       "      <td>13000.0</td>\n",
       "    </tr>\n",
       "    <tr>\n",
       "      <th>10.0</th>\n",
       "      <td>10.0</td>\n",
       "      <td>16000.0</td>\n",
       "      <td>13800.0</td>\n",
       "    </tr>\n",
       "  </tbody>\n",
       "</table>\n",
       "</div>"
      ],
      "text/plain": [
       "       Annee   Revenu  Consommation_th\n",
       "Annee                                 \n",
       "1.0      1.0   8000.0           7400.0\n",
       "2.0      2.0   9000.0           8200.0\n",
       "3.0      3.0   9500.0           8600.0\n",
       "4.0      4.0   9500.0           8600.0\n",
       "5.0      5.0   9800.0           8840.0\n",
       "6.0      6.0  11000.0           9800.0\n",
       "7.0      7.0  12000.0          10600.0\n",
       "8.0      8.0  13000.0          11400.0\n",
       "9.0      9.0  15000.0          13000.0\n",
       "10.0    10.0  16000.0          13800.0"
      ]
     },
     "execution_count": 79,
     "metadata": {},
     "output_type": "execute_result"
    }
   ],
   "source": [
    "df_conso = pd.DataFrame(np.concatenate([X, Y, C], axis=1), columns=['Annee', 'Revenu', 'Consommation_th'])\n",
    "df_conso.index = df_conso.Annee\n",
    "df_conso"
   ]
  },
  {
   "cell_type": "code",
   "execution_count": 99,
   "metadata": {},
   "outputs": [
    {
     "data": {
      "text/html": [
       "<div>\n",
       "<style scoped>\n",
       "    .dataframe tbody tr th:only-of-type {\n",
       "        vertical-align: middle;\n",
       "    }\n",
       "\n",
       "    .dataframe tbody tr th {\n",
       "        vertical-align: top;\n",
       "    }\n",
       "\n",
       "    .dataframe thead th {\n",
       "        text-align: right;\n",
       "    }\n",
       "</style>\n",
       "<table border=\"1\" class=\"dataframe\">\n",
       "  <thead>\n",
       "    <tr style=\"text-align: right;\">\n",
       "      <th></th>\n",
       "      <th>Annee</th>\n",
       "      <th>Revenu</th>\n",
       "      <th>Consommation_th</th>\n",
       "      <th>Alea</th>\n",
       "      <th>Conso_observee</th>\n",
       "    </tr>\n",
       "    <tr>\n",
       "      <th>Annee</th>\n",
       "      <th></th>\n",
       "      <th></th>\n",
       "      <th></th>\n",
       "      <th></th>\n",
       "      <th></th>\n",
       "    </tr>\n",
       "  </thead>\n",
       "  <tbody>\n",
       "    <tr>\n",
       "      <th>1.0</th>\n",
       "      <td>1.0</td>\n",
       "      <td>8000.0</td>\n",
       "      <td>7400.0</td>\n",
       "      <td>-82.247673</td>\n",
       "      <td>7317.752327</td>\n",
       "    </tr>\n",
       "    <tr>\n",
       "      <th>2.0</th>\n",
       "      <td>2.0</td>\n",
       "      <td>9000.0</td>\n",
       "      <td>8200.0</td>\n",
       "      <td>-202.464474</td>\n",
       "      <td>7997.535526</td>\n",
       "    </tr>\n",
       "    <tr>\n",
       "      <th>3.0</th>\n",
       "      <td>3.0</td>\n",
       "      <td>9500.0</td>\n",
       "      <td>8600.0</td>\n",
       "      <td>64.558031</td>\n",
       "      <td>8664.558031</td>\n",
       "    </tr>\n",
       "    <tr>\n",
       "      <th>4.0</th>\n",
       "      <td>4.0</td>\n",
       "      <td>9500.0</td>\n",
       "      <td>8600.0</td>\n",
       "      <td>-144.590134</td>\n",
       "      <td>8455.409866</td>\n",
       "    </tr>\n",
       "    <tr>\n",
       "      <th>5.0</th>\n",
       "      <td>5.0</td>\n",
       "      <td>9800.0</td>\n",
       "      <td>8840.0</td>\n",
       "      <td>-137.882168</td>\n",
       "      <td>8702.117832</td>\n",
       "    </tr>\n",
       "    <tr>\n",
       "      <th>6.0</th>\n",
       "      <td>6.0</td>\n",
       "      <td>11000.0</td>\n",
       "      <td>9800.0</td>\n",
       "      <td>173.484514</td>\n",
       "      <td>9973.484514</td>\n",
       "    </tr>\n",
       "    <tr>\n",
       "      <th>7.0</th>\n",
       "      <td>7.0</td>\n",
       "      <td>12000.0</td>\n",
       "      <td>10600.0</td>\n",
       "      <td>110.075311</td>\n",
       "      <td>10710.075311</td>\n",
       "    </tr>\n",
       "    <tr>\n",
       "      <th>8.0</th>\n",
       "      <td>8.0</td>\n",
       "      <td>13000.0</td>\n",
       "      <td>11400.0</td>\n",
       "      <td>-232.576931</td>\n",
       "      <td>11167.423069</td>\n",
       "    </tr>\n",
       "    <tr>\n",
       "      <th>9.0</th>\n",
       "      <td>9.0</td>\n",
       "      <td>15000.0</td>\n",
       "      <td>13000.0</td>\n",
       "      <td>-104.693461</td>\n",
       "      <td>12895.306539</td>\n",
       "    </tr>\n",
       "    <tr>\n",
       "      <th>10.0</th>\n",
       "      <td>10.0</td>\n",
       "      <td>16000.0</td>\n",
       "      <td>13800.0</td>\n",
       "      <td>61.077574</td>\n",
       "      <td>13861.077574</td>\n",
       "    </tr>\n",
       "  </tbody>\n",
       "</table>\n",
       "</div>"
      ],
      "text/plain": [
       "       Annee   Revenu  Consommation_th        Alea  Conso_observee\n",
       "Annee                                                             \n",
       "1.0      1.0   8000.0           7400.0  -82.247673     7317.752327\n",
       "2.0      2.0   9000.0           8200.0 -202.464474     7997.535526\n",
       "3.0      3.0   9500.0           8600.0   64.558031     8664.558031\n",
       "4.0      4.0   9500.0           8600.0 -144.590134     8455.409866\n",
       "5.0      5.0   9800.0           8840.0 -137.882168     8702.117832\n",
       "6.0      6.0  11000.0           9800.0  173.484514     9973.484514\n",
       "7.0      7.0  12000.0          10600.0  110.075311    10710.075311\n",
       "8.0      8.0  13000.0          11400.0 -232.576931    11167.423069\n",
       "9.0      9.0  15000.0          13000.0 -104.693461    12895.306539\n",
       "10.0    10.0  16000.0          13800.0   61.077574    13861.077574"
      ]
     },
     "execution_count": 99,
     "metadata": {},
     "output_type": "execute_result"
    }
   ],
   "source": [
    "epsilon = np.random.normal(scale = np.sqrt(20000), size=C.shape)\n",
    "df_conso[\"Alea\"] = epsilon\n",
    "df_conso[\"Conso_observee\"] = df_conso.Consommation_th + df_conso.Alea\n",
    "df_conso"
   ]
  },
  {
   "cell_type": "code",
   "execution_count": 102,
   "metadata": {},
   "outputs": [
    {
     "name": "stdout",
     "output_type": "stream",
     "text": [
      "Moyenne : -49.525941023650844, Ecart type : 133.53297842585005\n"
     ]
    }
   ],
   "source": [
    "print(\"Moyenne : {}, Ecart type : {}\".format(np.mean(df_conso.Alea), np.std(df_conso.Alea))) "
   ]
  },
  {
   "cell_type": "markdown",
   "metadata": {},
   "source": [
    "### C2EX2\n",
    "Estimation des coefficients de régression"
   ]
  },
  {
   "cell_type": "code",
   "execution_count": null,
   "metadata": {},
   "outputs": [],
   "source": []
  }
 ],
 "metadata": {
  "kernelspec": {
   "display_name": "Python 3",
   "language": "python",
   "name": "python3"
  },
  "language_info": {
   "codemirror_mode": {
    "name": "ipython",
    "version": 3
   },
   "file_extension": ".py",
   "mimetype": "text/x-python",
   "name": "python",
   "nbconvert_exporter": "python",
   "pygments_lexer": "ipython3",
   "version": "3.5.2"
  },
  "varInspector": {
   "cols": {
    "lenName": 16,
    "lenType": 16,
    "lenVar": 40
   },
   "kernels_config": {
    "python": {
     "delete_cmd_postfix": "",
     "delete_cmd_prefix": "del ",
     "library": "var_list.py",
     "varRefreshCmd": "print(var_dic_list())"
    },
    "r": {
     "delete_cmd_postfix": ") ",
     "delete_cmd_prefix": "rm(",
     "library": "var_list.r",
     "varRefreshCmd": "cat(var_dic_list()) "
    }
   },
   "types_to_exclude": [
    "module",
    "function",
    "builtin_function_or_method",
    "instance",
    "_Feature"
   ],
   "window_display": false
  }
 },
 "nbformat": 4,
 "nbformat_minor": 2
}
